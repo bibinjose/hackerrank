{
 "cells": [
  {
   "cell_type": "code",
   "execution_count": 13,
   "metadata": {},
   "outputs": [
    {
     "name": "stdout",
     "output_type": "stream",
     "text": [
      "Enter the size of array10\n",
      "Enter the numbers in the array  3 7 8 5 12 14 21 15 18 14\n",
      "[3, 5, 7, 8, 12, 14, 14, 15, 18, 21]\n",
      "[3, 5, 7, 8, 12]\n",
      "[14, 14, 15, 18, 21]\n",
      "7\n",
      "13.0\n",
      "15\n"
     ]
    }
   ],
   "source": [
    "#input the size of the array\n",
    "size = int(input('Enter the size of array'))\n",
    "\n",
    "#Enter the array X of numbers\n",
    "numbers = list(map(int, input('Enter the numbers in the array  ').split()))\n",
    "\n",
    "numbers.sort()\n",
    "\n",
    "def median(array):\n",
    "    print(array)\n",
    "    array_size=len(array)\n",
    "    #Median\n",
    "    midpoint=array_size//2\n",
    "    if (not array_size%2):\n",
    "        median=(array[midpoint-1]+array[midpoint])/2\n",
    "    else:\n",
    "        median=array[midpoint]\n",
    "    return median\n",
    "\n",
    "q2=median(numbers)\n",
    "q1=median(numbers[:(size//2)])\n",
    "if (not (size)%2):\n",
    "    q3=median(numbers[(size//2):])\n",
    "else:\n",
    "    q3=median(numbers[(size//2)+1:])\n",
    "print(q1)\n",
    "print(q2)\n",
    "print(q3)"
   ]
  },
  {
   "cell_type": "code",
   "execution_count": null,
   "metadata": {
    "collapsed": true
   },
   "outputs": [],
   "source": []
  },
  {
   "cell_type": "code",
   "execution_count": null,
   "metadata": {},
   "outputs": [],
   "source": []
  },
  {
   "cell_type": "code",
   "execution_count": null,
   "metadata": {
    "collapsed": true
   },
   "outputs": [],
   "source": []
  }
 ],
 "metadata": {
  "kernelspec": {
   "display_name": "Python 3",
   "language": "python",
   "name": "python3"
  },
  "language_info": {
   "codemirror_mode": {
    "name": "ipython",
    "version": 3
   },
   "file_extension": ".py",
   "mimetype": "text/x-python",
   "name": "python",
   "nbconvert_exporter": "python",
   "pygments_lexer": "ipython3",
   "version": "3.6.1"
  }
 },
 "nbformat": 4,
 "nbformat_minor": 2
}

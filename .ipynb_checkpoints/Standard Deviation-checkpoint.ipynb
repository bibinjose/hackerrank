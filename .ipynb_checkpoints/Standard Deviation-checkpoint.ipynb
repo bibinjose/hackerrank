{
 "cells": [
  {
   "cell_type": "markdown",
   "metadata": {},
   "source": [
    "# find the Standard Deviation"
   ]
  },
  {
   "cell_type": "code",
   "execution_count": 3,
   "metadata": {},
   "outputs": [
    {
     "name": "stdout",
     "output_type": "stream",
     "text": [
      "5\n",
      "1 2 3 4 5\n",
      "1.4\n"
     ]
    }
   ],
   "source": [
    "from math import sqrt\n",
    "#input the size of the array\n",
    "size = int(input())\n",
    "\n",
    "#Enter the array X of numbers\n",
    "numbers = list(map(int, input().split()))\n",
    "mean = sum(numbers)/size\n",
    "SD=sqrt(sum([(x-mean)**2 for x in numbers])/size)\n",
    "print(round(SD,1))"
   ]
  },
  {
   "cell_type": "code",
   "execution_count": null,
   "metadata": {
    "collapsed": true
   },
   "outputs": [],
   "source": []
  }
 ],
 "metadata": {
  "kernelspec": {
   "display_name": "Python 3",
   "language": "python",
   "name": "python3"
  },
  "language_info": {
   "codemirror_mode": {
    "name": "ipython",
    "version": 3
   },
   "file_extension": ".py",
   "mimetype": "text/x-python",
   "name": "python",
   "nbconvert_exporter": "python",
   "pygments_lexer": "ipython3",
   "version": "3.6.1"
  }
 },
 "nbformat": 4,
 "nbformat_minor": 2
}

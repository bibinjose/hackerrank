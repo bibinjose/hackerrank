{
 "cells": [
  {
   "cell_type": "markdown",
   "metadata": {},
   "source": [
    "# Interquartile Range"
   ]
  },
  {
   "cell_type": "markdown",
   "metadata": {},
   "source": [
    "The interquartile range of an array is the difference between its first and third quartiles \n",
    "\n",
    "Given an array X of n integers and an array F representing the respective frequencies of X's elements,\n",
    "construct a data set,S , where each xi occurs at frequency fi. Then calculate and print S's interquartile range,\n",
    "rounded to a scale of 1 decimal place "
   ]
  },
  {
   "cell_type": "code",
   "execution_count": 9,
   "metadata": {},
   "outputs": [
    {
     "name": "stdout",
     "output_type": "stream",
     "text": [
      "Enter the size of array6\n",
      "Enter the numbers in the array  6 12 8 10 20 16\n",
      "Enter the freqency of numbers 5 4 3 2 1 5\n",
      "[6, 6, 6, 6, 6, 8, 8, 8, 10, 10, 12, 12, 12, 12, 16, 16, 16, 16, 16, 20]\n"
     ]
    }
   ],
   "source": [
    "#input the size of the array\n",
    "size = int(input('Enter the size of array'))\n",
    "\n",
    "#Enter the array X of numbers\n",
    "numbers = list(map(int, input('Enter the numbers in the array  ').split()))\n",
    "freq = list(map(int, input('Enter the freqency of numbers ').split()))\n",
    "freq_array = []\n",
    "for item in range(size):\n",
    "    freq_array += [numbers[item]] * freq[item]\n",
    "freq_array.sort()\n",
    "print(freq_array)"
   ]
  },
  {
   "cell_type": "code",
   "execution_count": 11,
   "metadata": {},
   "outputs": [
    {
     "name": "stdout",
     "output_type": "stream",
     "text": [
      "[6, 6, 6, 6, 6, 8, 8, 8, 10, 10, 12, 12, 12, 12, 16, 16, 16, 16, 16, 20]\n",
      "[6, 6, 6, 6, 6, 8, 8, 8, 10, 10]\n",
      "[12, 12, 12, 12, 16, 16, 16, 16, 16, 20]\n",
      "9.0\n"
     ]
    }
   ],
   "source": [
    "def median(array):\n",
    "    print(array)\n",
    "    array_size=len(array)\n",
    "    #Median\n",
    "    midpoint=array_size//2\n",
    "    if (not array_size%2):\n",
    "        median=(array[midpoint-1]+array[midpoint])/2\n",
    "    else:\n",
    "        median=array[midpoint]\n",
    "    return median\n",
    "N=sum(freq)\n",
    "q2=median(freq_array)\n",
    "q1=median(freq_array[:(N//2)])\n",
    "if (not (N)%2):\n",
    "    q3=median(freq_array[(N//2):])\n",
    "else:\n",
    "    q3=median(freq_array[(N//2)+1:])\n",
    "\n",
    "print(round(float(q3-q1), 1))"
   ]
  },
  {
   "cell_type": "code",
   "execution_count": null,
   "metadata": {
    "collapsed": true
   },
   "outputs": [],
   "source": []
  }
 ],
 "metadata": {
  "kernelspec": {
   "display_name": "Python 3",
   "language": "python",
   "name": "python3"
  },
  "language_info": {
   "codemirror_mode": {
    "name": "ipython",
    "version": 3
   },
   "file_extension": ".py",
   "mimetype": "text/x-python",
   "name": "python",
   "nbconvert_exporter": "python",
   "pygments_lexer": "ipython3",
   "version": "3.6.1"
  }
 },
 "nbformat": 4,
 "nbformat_minor": 2
}
